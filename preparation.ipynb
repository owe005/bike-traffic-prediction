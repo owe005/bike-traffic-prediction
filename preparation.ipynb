{
 "cells": [
  {
   "cell_type": "markdown",
   "metadata": {},
   "source": [
    "# **INF161 - Bike Traffic Prediction Project**\n",
    "### *Ole Kristian Westby | owe009@uib.no | H23*\n",
    "\n",
    "This project uses data from Statens vegvesen and Geofysisk institutt. The goal is to create a model that can predict the volume (how many) of bikers at a given time over Nygårdsbroen. I'll need to prepare, strip and sort the data so I'm left with the data I deem valuable to perform this task. That's what this Jupyter notebook is for. I'll also be explaining my steps throughout the book. At the end, we'll have some juicy, ready data that we'll use to insert into /ready_data/ ready for the model to work on."
   ]
  },
  {
   "cell_type": "markdown",
   "metadata": {},
   "source": [
    "### Let's start by importing some libraries."
   ]
  },
  {
   "cell_type": "code",
   "execution_count": 11,
   "metadata": {},
   "outputs": [],
   "source": [
    "import numpy as np\n",
    "import pandas as pd\n",
    "import os"
   ]
  },
  {
   "cell_type": "markdown",
   "metadata": {},
   "source": [
    "### We'll handle the traffic data first."
   ]
  },
  {
   "cell_type": "code",
   "execution_count": 12,
   "metadata": {},
   "outputs": [
    {
     "name": "stdout",
     "output_type": "stream",
     "text": [
      "              Dato    Tid  Globalstraling  Solskinstid  Lufttemperatur  \\\n",
      "0       2010-01-01  00:00             0.0          0.0            -4.6   \n",
      "1       2010-01-01  00:10            -0.7          0.0            -4.1   \n",
      "2       2010-01-01  00:20             0.0          0.0            -3.5   \n",
      "3       2010-01-01  00:30             0.0          0.0            -4.1   \n",
      "4       2010-01-01  00:40            -0.7          0.0            -4.4   \n",
      "...            ...    ...             ...          ...             ...   \n",
      "709216  2023-06-30  23:10             0.7          0.0            13.7   \n",
      "709217  2023-06-30  23:20             0.7          0.0            13.6   \n",
      "709218  2023-06-30  23:30             0.8          0.0            13.6   \n",
      "709219  2023-06-30  23:40             0.8          0.0            13.6   \n",
      "709220  2023-06-30  23:50             0.8          0.0            13.5   \n",
      "\n",
      "        Vindretning  Vindstyrke  Lufttrykk  Vindkast  Relativ luftfuktighet  \n",
      "0             130.0         1.1      999.0       NaN                    NaN  \n",
      "1             158.0         1.6      999.2       NaN                    NaN  \n",
      "2             167.0         1.3      999.0       NaN                    NaN  \n",
      "3             151.0         0.7      999.0       NaN                    NaN  \n",
      "4             148.0         0.8      998.8       NaN                    NaN  \n",
      "...             ...         ...        ...       ...                    ...  \n",
      "709216        137.0         2.3      995.3       3.6                   81.0  \n",
      "709217        138.0         1.9      995.3       3.3                   82.0  \n",
      "709218        146.0         1.7      995.3       3.0                   83.0  \n",
      "709219        140.0         1.9      995.3       3.3                   82.0  \n",
      "709220        129.0         1.9      995.1       3.0                   83.0  \n",
      "\n",
      "[709221 rows x 10 columns]\n"
     ]
    }
   ],
   "source": [
    "dir_weather = \"raw_data/weather_data/\"\n",
    "\n",
    "files = [f for f in os.listdir(dir_weather) if f.endswith('.csv')]\n",
    "\n",
    "# Interesting columns\n",
    "columns = [\"Dato\", \"Tid\", \"Solskinstid\", \"Lufttemperatur\", \"Vindstyrke\", \"Vindkast\"]\n",
    "\n",
    "dfs = []\n",
    "for file in files:\n",
    "\n",
    "    file_path = os.path.join(dir_weather, file)\n",
    "\n",
    "    df = pd.read_csv(file_path, usecols=columns)\n",
    "\n",
    "    dfs.append(df)\n",
    "\n",
    "merged_df = pd.concat(dfs, ignore_index=True)\n",
    "print(merged_df)\n",
    "\n",
    "\n",
    "\n",
    "\n"
   ]
  }
 ],
 "metadata": {
  "kernelspec": {
   "display_name": "Python 3",
   "language": "python",
   "name": "python3"
  },
  "language_info": {
   "codemirror_mode": {
    "name": "ipython",
    "version": 3
   },
   "file_extension": ".py",
   "mimetype": "text/x-python",
   "name": "python",
   "nbconvert_exporter": "python",
   "pygments_lexer": "ipython3",
   "version": "3.10.11"
  },
  "orig_nbformat": 4
 },
 "nbformat": 4,
 "nbformat_minor": 2
}
