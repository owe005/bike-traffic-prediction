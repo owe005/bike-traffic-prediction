{
 "cells": [
  {
   "cell_type": "markdown",
   "metadata": {},
   "source": [
    "# **INF161 - Bike Traffic Prediction Modelling**\n",
    "### *Ole Kristian Westby | owe009@uib.no | H23*\n",
    "\n",
    "In this notebook, I will go through modelling and prediction for this project.\n"
   ]
  },
  {
   "cell_type": "code",
   "execution_count": 196,
   "metadata": {},
   "outputs": [
    {
     "data": {
      "text/html": [
       "<div>\n",
       "<style scoped>\n",
       "    .dataframe tbody tr th:only-of-type {\n",
       "        vertical-align: middle;\n",
       "    }\n",
       "\n",
       "    .dataframe tbody tr th {\n",
       "        vertical-align: top;\n",
       "    }\n",
       "\n",
       "    .dataframe thead th {\n",
       "        text-align: right;\n",
       "    }\n",
       "</style>\n",
       "<table border=\"1\" class=\"dataframe\">\n",
       "  <thead>\n",
       "    <tr style=\"text-align: right;\">\n",
       "      <th></th>\n",
       "      <th>Datotid</th>\n",
       "      <th>Trafikkmengde</th>\n",
       "      <th>Globalstraling</th>\n",
       "      <th>Solskinstid</th>\n",
       "      <th>Lufttemperatur</th>\n",
       "      <th>Vindstyrke</th>\n",
       "      <th>Lufttrykk</th>\n",
       "      <th>Vindkast</th>\n",
       "    </tr>\n",
       "  </thead>\n",
       "  <tbody>\n",
       "    <tr>\n",
       "      <th>0</th>\n",
       "      <td>2015-07-16 15:00:00</td>\n",
       "      <td>50</td>\n",
       "      <td>504.400000</td>\n",
       "      <td>7.233333</td>\n",
       "      <td>13.900000</td>\n",
       "      <td>4.083333</td>\n",
       "      <td>1014.433333</td>\n",
       "      <td>6.70</td>\n",
       "    </tr>\n",
       "    <tr>\n",
       "      <th>1</th>\n",
       "      <td>2015-07-16 16:00:00</td>\n",
       "      <td>101</td>\n",
       "      <td>432.833333</td>\n",
       "      <td>8.116667</td>\n",
       "      <td>13.733333</td>\n",
       "      <td>4.333333</td>\n",
       "      <td>1014.400000</td>\n",
       "      <td>7.20</td>\n",
       "    </tr>\n",
       "    <tr>\n",
       "      <th>2</th>\n",
       "      <td>2015-07-16 17:00:00</td>\n",
       "      <td>79</td>\n",
       "      <td>378.400000</td>\n",
       "      <td>10.000000</td>\n",
       "      <td>13.866667</td>\n",
       "      <td>3.933333</td>\n",
       "      <td>1014.066667</td>\n",
       "      <td>6.55</td>\n",
       "    </tr>\n",
       "    <tr>\n",
       "      <th>3</th>\n",
       "      <td>2015-07-16 18:00:00</td>\n",
       "      <td>56</td>\n",
       "      <td>212.583333</td>\n",
       "      <td>10.000000</td>\n",
       "      <td>13.216667</td>\n",
       "      <td>4.233333</td>\n",
       "      <td>1013.966667</td>\n",
       "      <td>7.15</td>\n",
       "    </tr>\n",
       "    <tr>\n",
       "      <th>4</th>\n",
       "      <td>2015-07-16 19:00:00</td>\n",
       "      <td>45</td>\n",
       "      <td>79.750000</td>\n",
       "      <td>10.000000</td>\n",
       "      <td>12.683333</td>\n",
       "      <td>2.950000</td>\n",
       "      <td>1014.100000</td>\n",
       "      <td>5.45</td>\n",
       "    </tr>\n",
       "  </tbody>\n",
       "</table>\n",
       "</div>"
      ],
      "text/plain": [
       "               Datotid  Trafikkmengde  Globalstraling  Solskinstid  \\\n",
       "0  2015-07-16 15:00:00             50      504.400000     7.233333   \n",
       "1  2015-07-16 16:00:00            101      432.833333     8.116667   \n",
       "2  2015-07-16 17:00:00             79      378.400000    10.000000   \n",
       "3  2015-07-16 18:00:00             56      212.583333    10.000000   \n",
       "4  2015-07-16 19:00:00             45       79.750000    10.000000   \n",
       "\n",
       "   Lufttemperatur  Vindstyrke    Lufttrykk  Vindkast  \n",
       "0       13.900000    4.083333  1014.433333      6.70  \n",
       "1       13.733333    4.333333  1014.400000      7.20  \n",
       "2       13.866667    3.933333  1014.066667      6.55  \n",
       "3       13.216667    4.233333  1013.966667      7.15  \n",
       "4       12.683333    2.950000  1014.100000      5.45  "
      ]
     },
     "execution_count": 196,
     "metadata": {},
     "output_type": "execute_result"
    }
   ],
   "source": [
    "import pandas as pd\n",
    "import numpy as np\n",
    "import matplotlib.pyplot as plt\n",
    "\n",
    "dir = 'ready_data/ready_data.csv'\n",
    "\n",
    "# Load data into a dataframe\n",
    "df = pd.read_csv(dir)\n",
    "\n",
    "# Look at first rows\n",
    "df.head()"
   ]
  },
  {
   "cell_type": "markdown",
   "metadata": {},
   "source": [
    "Let's check for missing data."
   ]
  },
  {
   "cell_type": "code",
   "execution_count": 197,
   "metadata": {},
   "outputs": [
    {
     "data": {
      "text/plain": [
       "Datotid             0\n",
       "Trafikkmengde       0\n",
       "Globalstraling    403\n",
       "Solskinstid       403\n",
       "Lufttemperatur    403\n",
       "Vindstyrke        403\n",
       "Lufttrykk         403\n",
       "Vindkast          403\n",
       "dtype: int64"
      ]
     },
     "execution_count": 197,
     "metadata": {},
     "output_type": "execute_result"
    }
   ],
   "source": [
    "# Missing data\n",
    "missing_data = df.isnull().sum()\n",
    "missing_data"
   ]
  },
  {
   "cell_type": "markdown",
   "metadata": {},
   "source": [
    "Now, regarding the missing values in the dataframe, we're gonna fix this by imputing them with the median because it's less sensitive to outliers. This will artifically impute these missing values with the median of the other values so it's sort of accurate. There are other strategies to do this, and they're not necessarily false either, but I choose the median because of its insensitivity to outliers."
   ]
  },
  {
   "cell_type": "code",
   "execution_count": 198,
   "metadata": {},
   "outputs": [
    {
     "data": {
      "text/plain": [
       "Datotid           0\n",
       "Trafikkmengde     0\n",
       "Globalstraling    0\n",
       "Solskinstid       0\n",
       "Lufttemperatur    0\n",
       "Vindstyrke        0\n",
       "Lufttrykk         0\n",
       "Vindkast          0\n",
       "dtype: int64"
      ]
     },
     "execution_count": 198,
     "metadata": {},
     "output_type": "execute_result"
    }
   ],
   "source": [
    "# Impute with median\n",
    "for col in missing_data.index[missing_data > 0]:\n",
    "    df[col].fillna(df[col].median(), inplace=True)\n",
    "\n",
    "# Now we can check again\n",
    "missing_data = (df.isnull().sum())\n",
    "missing_data"
   ]
  },
  {
   "cell_type": "markdown",
   "metadata": {},
   "source": [
    "Next, we'll convert the \"Datotid\" column to datetime format, and extract month, day and hour from the dataframe. We will also be doing the feature engineering part to increase our model's accuracy."
   ]
  },
  {
   "cell_type": "code",
   "execution_count": 199,
   "metadata": {},
   "outputs": [
    {
     "name": "stdout",
     "output_type": "stream",
     "text": [
      "                  Datotid  Trafikkmengde  Globalstraling  Solskinstid  \\\n",
      "0     2015-07-16 15:00:00             50      504.400000     7.233333   \n",
      "1     2015-07-16 16:00:00            101      432.833333     8.116667   \n",
      "2     2015-07-16 17:00:00             79      378.400000    10.000000   \n",
      "3     2015-07-16 18:00:00             56      212.583333    10.000000   \n",
      "4     2015-07-16 19:00:00             45       79.750000    10.000000   \n",
      "...                   ...            ...             ...          ...   \n",
      "65356 2022-12-31 19:00:00              0       -0.400000     0.000000   \n",
      "65357 2022-12-31 20:00:00              0       -0.150000     0.000000   \n",
      "65358 2022-12-31 21:00:00              3       -1.750000     0.000000   \n",
      "65359 2022-12-31 22:00:00              5       -0.933333     0.000000   \n",
      "65360 2022-12-31 23:00:00              1       -3.983333     0.000000   \n",
      "\n",
      "       Lufttemperatur  Vindstyrke    Lufttrykk  Vindkast  Month  DayOfWeek  \\\n",
      "0           13.900000    4.083333  1014.433333      6.70      7          3   \n",
      "1           13.733333    4.333333  1014.400000      7.20      7          3   \n",
      "2           13.866667    3.933333  1014.066667      6.55      7          3   \n",
      "3           13.216667    4.233333  1013.966667      7.15      7          3   \n",
      "4           12.683333    2.950000  1014.100000      5.45      7          3   \n",
      "...               ...         ...          ...       ...    ...        ...   \n",
      "65356        1.766667    1.283333   991.400000      2.45     12          5   \n",
      "65357        0.666667    1.700000   992.300000      3.15     12          5   \n",
      "65358        0.483333    0.833333   992.883333      1.60     12          5   \n",
      "65359        0.516667    2.166667   993.866667      4.20     12          5   \n",
      "65360        0.316667    0.466667   994.416667      1.10     12          5   \n",
      "\n",
      "       Hour  IsHoliday  IsWeekend  IsRushhour  VinterFerie  Høstferie  Summer  \\\n",
      "0        15      False      False        True        False      False    True   \n",
      "1        16      False      False        True        False      False    True   \n",
      "2        17      False      False        True        False      False    True   \n",
      "3        18      False      False       False        False      False    True   \n",
      "4        19      False      False       False        False      False    True   \n",
      "...     ...        ...        ...         ...          ...        ...     ...   \n",
      "65356    19      False       True       False        False      False   False   \n",
      "65357    20      False       True       False        False      False   False   \n",
      "65358    21      False       True       False        False      False   False   \n",
      "65359    22      False       True       False        False      False   False   \n",
      "65360    23      False       True       False        False      False   False   \n",
      "\n",
      "       Winter  Spring  Autumn  \n",
      "0       False   False   False  \n",
      "1       False   False   False  \n",
      "2       False   False   False  \n",
      "3       False   False   False  \n",
      "4       False   False   False  \n",
      "...       ...     ...     ...  \n",
      "65356    True   False   False  \n",
      "65357    True   False   False  \n",
      "65358    True   False   False  \n",
      "65359    True   False   False  \n",
      "65360    True   False   False  \n",
      "\n",
      "[65361 rows x 20 columns]\n"
     ]
    }
   ],
   "source": [
    "import holidays # Holidays feature engineering\n",
    "\n",
    "df['Datotid'] = pd.to_datetime(df['Datotid'])\n",
    "\n",
    "# Extracting time-related stuff\n",
    "df['Month'] = df['Datotid'].dt.month\n",
    "df['DayOfWeek'] = df['Datotid'].dt.dayofweek # Monday: 0, Tuesday: 1, ... , Sunday: 6.\n",
    "df['Hour'] = df['Datotid'].dt.hour\n",
    "\n",
    "# Feature engineering: Public holidays in Norway\n",
    "norway_holidays = holidays.Norway()\n",
    "df['IsHoliday'] = df['Datotid'].apply(lambda x: pd.to_datetime(x).date() in norway_holidays)\n",
    "\n",
    "# Feature engineering: Weekends, rushhour. I tested different options on \"rushhour\" and found this to be the best\n",
    "df['IsWeekend'] = df['Datotid'].dt.dayofweek >= 5\n",
    "df['IsRushhour'] = df['Hour'].isin([7, 8, 15, 16, 17])\n",
    "\n",
    "df['IsNight'] = df['Hour'].isin([0, 1, 2, 3, 4, 5])\n",
    "\n",
    "# Feature engineering: Seasons\n",
    "df['Summer'] = df['Month'].isin([6, 7, 8])\n",
    "df['Winter'] = df['Month'].isin([12, 1, 2])\n",
    "df['Spring'] = df['Month'].isin([3, 4, 5])\n",
    "df['Autumn'] = df['Month'].isin([9, 10, 11])\n",
    "\n",
    "df.reset_index(drop=True, inplace=True)\n",
    "\n",
    "print(df)"
   ]
  },
  {
   "cell_type": "markdown",
   "metadata": {},
   "source": [
    "Now that our data is clean and *really ready*, we can start with data splitting. We will first need to import an additional library for this."
   ]
  },
  {
   "cell_type": "code",
   "execution_count": 200,
   "metadata": {},
   "outputs": [
    {
     "data": {
      "text/plain": [
       "((32680, 18), (32681, 18))"
      ]
     },
     "execution_count": 200,
     "metadata": {},
     "output_type": "execute_result"
    }
   ],
   "source": [
    "from sklearn.model_selection import train_test_split\n",
    "\n",
    "# X: all weather information, y: only trafikkmengde.\n",
    "X = df.drop(columns=['Datotid', 'Trafikkmengde'])\n",
    "y = df['Trafikkmengde']\n",
    "\n",
    "# We want equal training and validation sets (samples)\n",
    "X_train, X_val, y_train, y_val = train_test_split(X, y, test_size=0.5, random_state=1)\n",
    "\n",
    "# How many samples?\n",
    "X_train.shape, X_val.shape"
   ]
  },
  {
   "cell_type": "markdown",
   "metadata": {},
   "source": [
    "The data has now been sucessfully split into a training set, and a validation set. The training set contains 32,680 samples and the validation set contains 32,681 samples."
   ]
  },
  {
   "cell_type": "markdown",
   "metadata": {},
   "source": [
    "Next, we need to select a model, and we'll need to import numpy, as well as the first model and MSE. Let's try Linear Regression as our first model. ~0s runtime"
   ]
  },
  {
   "cell_type": "code",
   "execution_count": 201,
   "metadata": {},
   "outputs": [
    {
     "data": {
      "text/plain": [
       "46.26945543379749"
      ]
     },
     "execution_count": 201,
     "metadata": {},
     "output_type": "execute_result"
    }
   ],
   "source": [
    "from sklearn.linear_model import LinearRegression\n",
    "from sklearn.metrics import mean_squared_error\n",
    "import numpy as np\n",
    "\n",
    "# Initialize the model and train it\n",
    "lr = LinearRegression()\n",
    "lr.fit(X_train, y_train)\n",
    "\n",
    "# Predict on the validation set\n",
    "lr_predict = lr.predict(X_val)\n",
    "\n",
    "# Calulate RMSE (root of mean squared error)\n",
    "lr_rmse = np.sqrt(mean_squared_error(y_val, lr_predict))\n",
    "\n",
    "lr_rmse"
   ]
  },
  {
   "cell_type": "markdown",
   "metadata": {},
   "source": [
    "The RMSE for this model is ~46.3 approx. Before we continue checking different models, I wish to stop here and think a bit. Is ~43,3 a good RMSE here? I think in order to evaluate this, we need to check how many cycle on average each day. Let's check this."
   ]
  },
  {
   "cell_type": "code",
   "execution_count": 202,
   "metadata": {},
   "outputs": [
    {
     "data": {
      "text/plain": [
       "count    65361.000000\n",
       "mean        50.379905\n",
       "std         69.782243\n",
       "min          0.000000\n",
       "25%          5.000000\n",
       "50%         25.000000\n",
       "75%         64.000000\n",
       "max        608.000000\n",
       "Name: Trafikkmengde, dtype: float64"
      ]
     },
     "execution_count": 202,
     "metadata": {},
     "output_type": "execute_result"
    }
   ],
   "source": [
    "# Looking at all trafikkmengde stats.\n",
    "cycle_stats = df['Trafikkmengde'].describe()\n",
    "cycle_stats"
   ]
  },
  {
   "cell_type": "markdown",
   "metadata": {},
   "source": [
    "Given this, it is clear that an RMSE of ~46,3 is pretty high, especially since the 75th percentile is 64 cycles. On average we're gonna be really off with this. This model won't do, we need to explore some more.. We can try the Lasso Regression model from the lab works. ~0.1s runtime"
   ]
  },
  {
   "cell_type": "code",
   "execution_count": 203,
   "metadata": {},
   "outputs": [
    {
     "data": {
      "text/plain": [
       "46.28320042020932"
      ]
     },
     "execution_count": 203,
     "metadata": {},
     "output_type": "execute_result"
    }
   ],
   "source": [
    "from sklearn.linear_model import Lasso\n",
    "\n",
    "# Initialize the model and train it\n",
    "lasso = Lasso(alpha=0.1, random_state=1)\n",
    "lasso.fit(X_train, y_train)\n",
    "\n",
    "# Predict on val set\n",
    "lasso_predict = lasso.predict(X_val)\n",
    "\n",
    "# RMSE\n",
    "lasso_rmse = np.sqrt(mean_squared_error(y_val, lasso_predict))\n",
    "lasso_rmse\n"
   ]
  },
  {
   "cell_type": "markdown",
   "metadata": {},
   "source": [
    "Hmm.. that's even worse (not that much more worse!). So far the Linear Regression model is winning, but there has to be a better one.. How about Random Forest? ~5.5s runtime"
   ]
  },
  {
   "cell_type": "code",
   "execution_count": 204,
   "metadata": {},
   "outputs": [
    {
     "data": {
      "text/plain": [
       "23.80429214106913"
      ]
     },
     "execution_count": 204,
     "metadata": {},
     "output_type": "execute_result"
    }
   ],
   "source": [
    "from sklearn.ensemble import RandomForestRegressor\n",
    "\n",
    "# Initialize the model and train it\n",
    "rf = RandomForestRegressor(n_estimators=10, random_state=1) # With 100 estimators, the RMSE is 26.1455 instead, but it took a minute to run. # 1000: 25,89\n",
    "\n",
    "rf.fit(X_train, y_train)\n",
    "\n",
    "# Predict on val set\n",
    "rf_predict = rf.predict(X_val)\n",
    "\n",
    "# RMSE\n",
    "rf_rmse = np.sqrt(mean_squared_error(y_val, rf_predict))\n",
    "rf_rmse"
   ]
  },
  {
   "cell_type": "markdown",
   "metadata": {},
   "source": [
    "Woah! That's a big improvement. Definitely the best model so far with RMSE ~23.8. Will try GradientBoosting, ~0.7s runtime"
   ]
  },
  {
   "cell_type": "code",
   "execution_count": 205,
   "metadata": {},
   "outputs": [
    {
     "data": {
      "text/plain": [
       "43.78259500701312"
      ]
     },
     "execution_count": 205,
     "metadata": {},
     "output_type": "execute_result"
    }
   ],
   "source": [
    "from sklearn.ensemble import GradientBoostingRegressor\n",
    "\n",
    "# Initialize the model and train it\n",
    "gb = GradientBoostingRegressor(n_estimators=10, random_state=1)\n",
    "gb.fit(X_train, y_train)\n",
    "\n",
    "# Predict on val set\n",
    "gb_predict = gb.predict(X_val)\n",
    "\n",
    "# RMSE\n",
    "gb_rmse = np.sqrt(mean_squared_error(y_val, gb_predict))\n",
    "gb_rmse"
   ]
  },
  {
   "cell_type": "markdown",
   "metadata": {},
   "source": [
    "Hmm, not better. Okay, out of the three models we tested so far, RandomForest is winning. I'll try some more.. ps: in the final deadline I will probably make adjustments so it will check all models at once for the best one instead of individually like this, this is just for visualization and thought-descriptions. Next will try ElasticNet, ~0s runtime"
   ]
  },
  {
   "cell_type": "code",
   "execution_count": 206,
   "metadata": {},
   "outputs": [
    {
     "data": {
      "text/plain": [
       "56.05408475036874"
      ]
     },
     "execution_count": 206,
     "metadata": {},
     "output_type": "execute_result"
    }
   ],
   "source": [
    "from sklearn.linear_model import ElasticNet\n",
    "\n",
    "# Initialize the model and train it\n",
    "elastic_net = ElasticNet(alpha=1, random_state=1)\n",
    "elastic_net.fit(X_train, y_train)\n",
    "\n",
    "# Predict on val set\n",
    "y_predict = elastic_net.predict(X_val)\n",
    "\n",
    "# RMSE\n",
    "en_rmse = np.sqrt(mean_squared_error(y_val, y_predict))\n",
    "en_rmse"
   ]
  },
  {
   "cell_type": "markdown",
   "metadata": {},
   "source": [
    "Let's try a different type of model, KNeighborsRegressor. ~1 second runtime"
   ]
  },
  {
   "cell_type": "code",
   "execution_count": 207,
   "metadata": {},
   "outputs": [
    {
     "data": {
      "text/plain": [
       "53.17993235102028"
      ]
     },
     "execution_count": 207,
     "metadata": {},
     "output_type": "execute_result"
    }
   ],
   "source": [
    "from sklearn.neighbors import KNeighborsRegressor\n",
    "\n",
    "# Initialize the model and train it\n",
    "kn = KNeighborsRegressor(n_neighbors=10)\n",
    "kn.fit(X_train, y_train)\n",
    "\n",
    "# Predict on val set\n",
    "y_predict = kn.predict(X_val)\n",
    "\n",
    "# RMSE\n",
    "kn_rmse = np.sqrt(mean_squared_error(y_val, y_predict))\n",
    "kn_rmse"
   ]
  },
  {
   "cell_type": "markdown",
   "metadata": {},
   "source": [
    "After trying all of these models, I think I will stick with RandomForest. Let's now use GridSearchCV to find the optimal hyperparameters. (Took 50 minutes to run, it has been commented out.)"
   ]
  },
  {
   "cell_type": "code",
   "execution_count": 208,
   "metadata": {},
   "outputs": [
    {
     "name": "stdout",
     "output_type": "stream",
     "text": [
      "Fitting 3 folds for each of 144 candidates, totalling 432 fits\n",
      "22.65241381006245\n",
      "RandomForestRegressor(max_depth=20, n_estimators=200, random_state=1)\n"
     ]
    }
   ],
   "source": [
    "'''\n",
    "# GridSearch lets us check for the best hyperparameters with a given parameter grid\n",
    "from sklearn.model_selection import GridSearchCV\n",
    "\n",
    "# Define parameter grid\n",
    "param_grid = {\n",
    "    'n_estimators': [10, 50, 100, 200],\n",
    "    'max_depth': [None, 10, 20, 30],\n",
    "    'min_samples_split': [2, 5, 10],\n",
    "    'min_samples_leaf': [1, 2, 4]\n",
    "}\n",
    "\n",
    "# Let's GridSearch RandomForest with this param grid\n",
    "grid_search = GridSearchCV(estimator=rf, \n",
    "                           param_grid=param_grid, \n",
    "                           cv=3, \n",
    "                           n_jobs=-1, \n",
    "                           verbose=2, \n",
    "                           scoring='neg_mean_squared_error') # MSE is positive or zero, neg is prefix to all mse\n",
    "\n",
    "# We will attempt to fit all different parameters on the training data.\n",
    "grid_search.fit(X_train, y_train)\n",
    "\n",
    "# Best params\n",
    "best_params = grid_search.best_params_\n",
    "\n",
    "# Best estimator\n",
    "best_rf = grid_search.best_estimator_\n",
    "\n",
    "# Predict on val data\n",
    "rf_predict = best_rf.predict(X_val)\n",
    "\n",
    "# RMSE\n",
    "rf_rmse = np.sqrt(mean_squared_error(y_val, rf_predict))\n",
    "\n",
    "# Print results\n",
    "print(rf_rmse)\n",
    "print(best_rf)\n",
    "'''"
   ]
  },
  {
   "cell_type": "markdown",
   "metadata": {},
   "source": [
    "This was more done to show I know how GridSearch works. There isn't many hyperparameters with LinearRegression unlike most tree-based models."
   ]
  }
 ],
 "metadata": {
  "kernelspec": {
   "display_name": "Python 3",
   "language": "python",
   "name": "python3"
  },
  "language_info": {
   "codemirror_mode": {
    "name": "ipython",
    "version": 3
   },
   "file_extension": ".py",
   "mimetype": "text/x-python",
   "name": "python",
   "nbconvert_exporter": "python",
   "pygments_lexer": "ipython3",
   "version": "3.10.6"
  },
  "orig_nbformat": 4
 },
 "nbformat": 4,
 "nbformat_minor": 2
}
